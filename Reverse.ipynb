{
 "cells": [
  {
   "cell_type": "code",
   "execution_count": 1,
   "metadata": {},
   "outputs": [],
   "source": [
    "class Node:\n",
    "    def __init__(self,data):\n",
    "        self.data = data\n",
    "        self.prev = None\n",
    "        self.next = None"
   ]
  },
  {
   "cell_type": "code",
   "execution_count": 3,
   "metadata": {},
   "outputs": [],
   "source": [
    "class DoublyLinkedList:\n",
    "    def __init__(self):\n",
    "        self.head = None\n",
    "    def append(self,data):\n",
    "        if self.head is None:\n",
    "            newnode = Node(data)\n",
    "            newnode.prev = None\n",
    "            self.head = newnode\n",
    "        else:\n",
    "            newnode = Node(data)\n",
    "            cur = self.head\n",
    "            while cur.next:\n",
    "                cur = cur.next\n",
    "            cur.next = newnode\n",
    "            newnode.prev = cur\n",
    "            newnode.next = None\n",
    "    def prepend(self,data):\n",
    "        if self.head is None:\n",
    "            newnode = Node(data)\n",
    "            newnode.prev = None\n",
    "            self.head = newnode\n",
    "        else:\n",
    "            newnode = Node(data)\n",
    "            self.head.prev = newnode\n",
    "            newnode.next = self.head\n",
    "            newnode.prev = None\n",
    "            self.head = newnode\n",
    "    def print_list(self):\n",
    "        cur = self.head\n",
    "        while cur:\n",
    "            print(cur.data)\n",
    "            cur = cur.next\n",
    "            \n",
    "    #reverse\n",
    "    def reverse(self):\n",
    "        tmp = None\n",
    "        cur = self.head\n",
    "        while cur:\n",
    "            tmp = cur.prev\n",
    "            cur.prev = cur.next\n",
    "            cur.next = tmp\n",
    "            cur = cur.prev\n",
    "        if tmp:\n",
    "            self.head  = tmp.prev\n",
    "    "
   ]
  },
  {
   "cell_type": "code",
   "execution_count": 4,
   "metadata": {},
   "outputs": [],
   "source": [
    "dllist = DoublyLinkedList()\n"
   ]
  },
  {
   "cell_type": "code",
   "execution_count": 5,
   "metadata": {},
   "outputs": [],
   "source": [
    "dllist.append(1)\n",
    "dllist.append(2)\n",
    "dllist.append(3)\n",
    "dllist.append(4)"
   ]
  },
  {
   "cell_type": "code",
   "execution_count": 6,
   "metadata": {},
   "outputs": [],
   "source": [
    "dllist.reverse()"
   ]
  },
  {
   "cell_type": "code",
   "execution_count": 7,
   "metadata": {},
   "outputs": [
    {
     "name": "stdout",
     "output_type": "stream",
     "text": [
      "4\n",
      "3\n",
      "2\n",
      "1\n"
     ]
    }
   ],
   "source": [
    "dllist.print_list()"
   ]
  },
  {
   "cell_type": "code",
   "execution_count": null,
   "metadata": {},
   "outputs": [],
   "source": []
  }
 ],
 "metadata": {
  "kernelspec": {
   "display_name": "Python 3",
   "language": "python",
   "name": "python3"
  },
  "language_info": {
   "codemirror_mode": {
    "name": "ipython",
    "version": 3
   },
   "file_extension": ".py",
   "mimetype": "text/x-python",
   "name": "python",
   "nbconvert_exporter": "python",
   "pygments_lexer": "ipython3",
   "version": "3.6.8"
  }
 },
 "nbformat": 4,
 "nbformat_minor": 4
}
