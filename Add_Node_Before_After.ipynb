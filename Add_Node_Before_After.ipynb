{
 "cells": [
  {
   "cell_type": "code",
   "execution_count": 1,
   "metadata": {},
   "outputs": [],
   "source": [
    "class Node:\n",
    "    def __init__(self,data):\n",
    "        self.data = data\n",
    "        self.prev = None\n",
    "        self.next = None"
   ]
  },
  {
   "cell_type": "code",
   "execution_count": 9,
   "metadata": {},
   "outputs": [],
   "source": [
    "class DoublyLinkedList:\n",
    "    def __init__(self):\n",
    "        self.head = None\n",
    "    def append(self,data):\n",
    "        if self.head is None:\n",
    "            newnode = Node(data)\n",
    "            newnode.prev = None\n",
    "            self.head = newnode\n",
    "        else:\n",
    "            newnode = Node(data)\n",
    "            cur = self.head\n",
    "            while cur.next:\n",
    "                cur = cur.next\n",
    "            cur.next = newnode\n",
    "            newnode.prev = cur\n",
    "            newnode.next = None\n",
    "    def prepend(self,data):\n",
    "        if self.head is None:\n",
    "            newnode = Node(data)\n",
    "            newnode.prev = None\n",
    "            self.head = newnode\n",
    "        else:\n",
    "            newnode = Node(data)\n",
    "            self.head.prev = newnode\n",
    "            newnode.next = self.head\n",
    "            newnode.prev = None\n",
    "            self.head = newnode\n",
    "    def print_list(self):\n",
    "        cur = self.head\n",
    "        while cur:\n",
    "            print(cur.data)\n",
    "            cur = cur.next\n",
    "    \n",
    "    def add_node_after(self,key,data):\n",
    "        cur = self.head\n",
    "        while cur:\n",
    "            if cur.next==None and cur.data==key:\n",
    "                self.append(data)\n",
    "                return\n",
    "            elif cur.data == key:\n",
    "                newnode = Node(data)\n",
    "                nxt = cur.next\n",
    "                cur.next = newnode\n",
    "                newnode.next = nxt\n",
    "                nxt.prev = newnode\n",
    "                newnode.prev = cur\n",
    "            cur = cur.next\n",
    "            \n",
    "    def add_node_before(self,key,data):\n",
    "        cur = self.head\n",
    "        while cur:\n",
    "            if cur.prev == None and cur.data==key:\n",
    "                self.prepend(data)\n",
    "                return\n",
    "            elif cur.data==key:\n",
    "                newnode = Node(data)\n",
    "                previous = cur.prev\n",
    "                previous.next = newnode\n",
    "                newnode.next = cur\n",
    "                cur.prev = newnode\n",
    "                newnode.prev = previous\n",
    "            cur  = cur.next    "
   ]
  },
  {
   "cell_type": "code",
   "execution_count": 10,
   "metadata": {},
   "outputs": [],
   "source": [
    "dllist = DoublyLinkedList()\n",
    "dllist.append(1)\n",
    "dllist.append(2)\n",
    "dllist.append(3)\n",
    "dllist.append(4)"
   ]
  },
  {
   "cell_type": "code",
   "execution_count": 11,
   "metadata": {},
   "outputs": [],
   "source": [
    "dllist.add_node_after(2,12)"
   ]
  },
  {
   "cell_type": "code",
   "execution_count": 12,
   "metadata": {},
   "outputs": [
    {
     "name": "stdout",
     "output_type": "stream",
     "text": [
      "1\n",
      "2\n",
      "12\n",
      "3\n",
      "4\n"
     ]
    }
   ],
   "source": [
    "dllist.print_list()"
   ]
  },
  {
   "cell_type": "code",
   "execution_count": 13,
   "metadata": {},
   "outputs": [],
   "source": [
    "dllist.add_node_before(2,10)"
   ]
  },
  {
   "cell_type": "code",
   "execution_count": 14,
   "metadata": {},
   "outputs": [
    {
     "name": "stdout",
     "output_type": "stream",
     "text": [
      "1\n",
      "10\n",
      "2\n",
      "12\n",
      "3\n",
      "4\n"
     ]
    }
   ],
   "source": [
    "dllist.print_list()"
   ]
  },
  {
   "cell_type": "code",
   "execution_count": null,
   "metadata": {},
   "outputs": [],
   "source": []
  }
 ],
 "metadata": {
  "kernelspec": {
   "display_name": "Python 3",
   "language": "python",
   "name": "python3"
  },
  "language_info": {
   "codemirror_mode": {
    "name": "ipython",
    "version": 3
   },
   "file_extension": ".py",
   "mimetype": "text/x-python",
   "name": "python",
   "nbconvert_exporter": "python",
   "pygments_lexer": "ipython3",
   "version": "3.6.8"
  }
 },
 "nbformat": 4,
 "nbformat_minor": 4
}
